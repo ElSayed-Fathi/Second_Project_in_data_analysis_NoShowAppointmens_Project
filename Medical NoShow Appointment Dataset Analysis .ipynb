{
 "cells": [
  {
   "cell_type": "markdown",
   "id": "fdb05994",
   "metadata": {},
   "source": [
    "# Dataset description :\n",
    "This dataset collects information\n",
    "from 100k medical appointments in\n",
    "Brazil and is focused on the question\n",
    "of whether or not patients show up\n",
    "for their appointment.\n"
   ]
  },
  {
   "cell_type": "markdown",
   "id": "0b2c8285",
   "metadata": {},
   "source": [
    "# Features description :\n",
    "01 - PatientId\n",
    "Identification of a patient\n",
    "\n",
    "02 - AppointmentID\n",
    "Identification of each appointment\n",
    "\n",
    "03 - Gender\n",
    "Male or Female . Female is the greater proportion, woman takes way more care of they health in comparison to man.\n",
    "\n",
    "04 - AppointmentDay\n",
    "The day of the actuall appointment, when they have to visit the doctor.\n",
    "\n",
    "05 - ScheduledDay\n",
    "The day someone called or registered the appointment, this is before appointment of course.\n",
    "\n",
    "06 - Age\n",
    "How old is the patient.\n",
    "\n",
    "07 - Neighbourhood\n",
    "Where the appointment takes place.\n",
    "\n",
    "08 - Scholarship\n",
    "True of False . Observation, this is a broad topic, consider reading this article \n",
    "\n",
    "09 - Hipertension\n",
    "True or False\n",
    "\n",
    "10 - Diabetes\n",
    "True or False\n",
    "\n",
    "11 - Alcoholism\n",
    "True or False\n",
    "\n",
    "12 - Handcap\n",
    "True or False\n",
    "\n",
    "13 - SMS_received\n",
    "1 or more messages sent to the patient.\n",
    "\n",
    "14 - No-show\n",
    "True or False."
   ]
  },
  {
   "cell_type": "markdown",
   "id": "8745eb57",
   "metadata": {},
   "source": [
    "# Questions For Analysis (first step) :\n",
    "Q1: How often do men go to hospitals compared to women? Which of them is more likely to show up?\n",
    "\n",
    "Q2: Does recieving an SMS as a reminder affect whether or not a patient may show up? is it correlated with number of days before the appointment?\n",
    "\n",
    "Q3: Does having a scholarship affects showing up on a hospital appointment? What are the age groups affected by this?\n",
    "\n",
    "Q4: Does having certain deseases affect whather or not a patient may show up to their appointment? is it affected by gender?\n"
   ]
  },
  {
   "cell_type": "code",
   "execution_count": 28,
   "id": "7a4070d1",
   "metadata": {},
   "outputs": [],
   "source": [
    "# import libraries\n",
    "import numpy as np\n",
    "import pandas as pd\n",
    "import matplotlib.pyplot as plt\n",
    "import seaborn as sns"
   ]
  },
  {
   "cell_type": "markdown",
   "id": "4d39df73",
   "metadata": {},
   "source": [
    "# Data Wrangling (second step) :\n",
    "we load data from csv file to a pandas dataframe and show some details about dataset  \n"
   ]
  },
  {
   "cell_type": "code",
   "execution_count": 29,
   "id": "f249ec87",
   "metadata": {},
   "outputs": [
    {
     "data": {
      "text/html": [
       "<div>\n",
       "<style scoped>\n",
       "    .dataframe tbody tr th:only-of-type {\n",
       "        vertical-align: middle;\n",
       "    }\n",
       "\n",
       "    .dataframe tbody tr th {\n",
       "        vertical-align: top;\n",
       "    }\n",
       "\n",
       "    .dataframe thead th {\n",
       "        text-align: right;\n",
       "    }\n",
       "</style>\n",
       "<table border=\"1\" class=\"dataframe\">\n",
       "  <thead>\n",
       "    <tr style=\"text-align: right;\">\n",
       "      <th></th>\n",
       "      <th>PatientId</th>\n",
       "      <th>AppointmentID</th>\n",
       "      <th>Gender</th>\n",
       "      <th>ScheduledDay</th>\n",
       "      <th>AppointmentDay</th>\n",
       "      <th>Age</th>\n",
       "      <th>Neighbourhood</th>\n",
       "      <th>Scholarship</th>\n",
       "      <th>Hipertension</th>\n",
       "      <th>Diabetes</th>\n",
       "      <th>Alcoholism</th>\n",
       "      <th>Handcap</th>\n",
       "      <th>SMS_received</th>\n",
       "      <th>No-show</th>\n",
       "    </tr>\n",
       "  </thead>\n",
       "  <tbody>\n",
       "    <tr>\n",
       "      <th>0</th>\n",
       "      <td>2.987250e+13</td>\n",
       "      <td>5642903</td>\n",
       "      <td>F</td>\n",
       "      <td>2016-04-29T18:38:08Z</td>\n",
       "      <td>2016-04-29T00:00:00Z</td>\n",
       "      <td>62</td>\n",
       "      <td>JARDIM DA PENHA</td>\n",
       "      <td>0</td>\n",
       "      <td>1</td>\n",
       "      <td>0</td>\n",
       "      <td>0</td>\n",
       "      <td>0</td>\n",
       "      <td>0</td>\n",
       "      <td>No</td>\n",
       "    </tr>\n",
       "    <tr>\n",
       "      <th>1</th>\n",
       "      <td>5.589978e+14</td>\n",
       "      <td>5642503</td>\n",
       "      <td>M</td>\n",
       "      <td>2016-04-29T16:08:27Z</td>\n",
       "      <td>2016-04-29T00:00:00Z</td>\n",
       "      <td>56</td>\n",
       "      <td>JARDIM DA PENHA</td>\n",
       "      <td>0</td>\n",
       "      <td>0</td>\n",
       "      <td>0</td>\n",
       "      <td>0</td>\n",
       "      <td>0</td>\n",
       "      <td>0</td>\n",
       "      <td>No</td>\n",
       "    </tr>\n",
       "    <tr>\n",
       "      <th>2</th>\n",
       "      <td>4.262962e+12</td>\n",
       "      <td>5642549</td>\n",
       "      <td>F</td>\n",
       "      <td>2016-04-29T16:19:04Z</td>\n",
       "      <td>2016-04-29T00:00:00Z</td>\n",
       "      <td>62</td>\n",
       "      <td>MATA DA PRAIA</td>\n",
       "      <td>0</td>\n",
       "      <td>0</td>\n",
       "      <td>0</td>\n",
       "      <td>0</td>\n",
       "      <td>0</td>\n",
       "      <td>0</td>\n",
       "      <td>No</td>\n",
       "    </tr>\n",
       "    <tr>\n",
       "      <th>3</th>\n",
       "      <td>8.679512e+11</td>\n",
       "      <td>5642828</td>\n",
       "      <td>F</td>\n",
       "      <td>2016-04-29T17:29:31Z</td>\n",
       "      <td>2016-04-29T00:00:00Z</td>\n",
       "      <td>8</td>\n",
       "      <td>PONTAL DE CAMBURI</td>\n",
       "      <td>0</td>\n",
       "      <td>0</td>\n",
       "      <td>0</td>\n",
       "      <td>0</td>\n",
       "      <td>0</td>\n",
       "      <td>0</td>\n",
       "      <td>No</td>\n",
       "    </tr>\n",
       "    <tr>\n",
       "      <th>4</th>\n",
       "      <td>8.841186e+12</td>\n",
       "      <td>5642494</td>\n",
       "      <td>F</td>\n",
       "      <td>2016-04-29T16:07:23Z</td>\n",
       "      <td>2016-04-29T00:00:00Z</td>\n",
       "      <td>56</td>\n",
       "      <td>JARDIM DA PENHA</td>\n",
       "      <td>0</td>\n",
       "      <td>1</td>\n",
       "      <td>1</td>\n",
       "      <td>0</td>\n",
       "      <td>0</td>\n",
       "      <td>0</td>\n",
       "      <td>No</td>\n",
       "    </tr>\n",
       "  </tbody>\n",
       "</table>\n",
       "</div>"
      ],
      "text/plain": [
       "      PatientId  AppointmentID Gender          ScheduledDay  \\\n",
       "0  2.987250e+13        5642903      F  2016-04-29T18:38:08Z   \n",
       "1  5.589978e+14        5642503      M  2016-04-29T16:08:27Z   \n",
       "2  4.262962e+12        5642549      F  2016-04-29T16:19:04Z   \n",
       "3  8.679512e+11        5642828      F  2016-04-29T17:29:31Z   \n",
       "4  8.841186e+12        5642494      F  2016-04-29T16:07:23Z   \n",
       "\n",
       "         AppointmentDay  Age      Neighbourhood  Scholarship  Hipertension  \\\n",
       "0  2016-04-29T00:00:00Z   62    JARDIM DA PENHA            0             1   \n",
       "1  2016-04-29T00:00:00Z   56    JARDIM DA PENHA            0             0   \n",
       "2  2016-04-29T00:00:00Z   62      MATA DA PRAIA            0             0   \n",
       "3  2016-04-29T00:00:00Z    8  PONTAL DE CAMBURI            0             0   \n",
       "4  2016-04-29T00:00:00Z   56    JARDIM DA PENHA            0             1   \n",
       "\n",
       "   Diabetes  Alcoholism  Handcap  SMS_received No-show  \n",
       "0         0           0        0             0      No  \n",
       "1         0           0        0             0      No  \n",
       "2         0           0        0             0      No  \n",
       "3         0           0        0             0      No  \n",
       "4         1           0        0             0      No  "
      ]
     },
     "execution_count": 29,
     "metadata": {},
     "output_type": "execute_result"
    }
   ],
   "source": [
    "#we load data from csv file to a pandas dataframe   \n",
    "df = pd.read_csv('./noshowappointments-kagglev2-may-2016.csv')\n",
    "df.head()"
   ]
  },
  {
   "cell_type": "markdown",
   "id": "ceffa4f9",
   "metadata": {},
   "source": [
    "We'll move next into exploring our dataset by going through its data types, NaNs or duplicated rows, and any columns that may need to be dropped or parsed to understand how to clean our data before making visualize"
   ]
  },
  {
   "cell_type": "code",
   "execution_count": 30,
   "id": "7067a0aa",
   "metadata": {},
   "outputs": [
    {
     "name": "stdout",
     "output_type": "stream",
     "text": [
      "<class 'pandas.core.frame.DataFrame'>\n",
      "RangeIndex: 110527 entries, 0 to 110526\n",
      "Data columns (total 14 columns):\n",
      " #   Column          Non-Null Count   Dtype  \n",
      "---  ------          --------------   -----  \n",
      " 0   PatientId       110527 non-null  float64\n",
      " 1   AppointmentID   110527 non-null  int64  \n",
      " 2   Gender          110527 non-null  object \n",
      " 3   ScheduledDay    110527 non-null  object \n",
      " 4   AppointmentDay  110527 non-null  object \n",
      " 5   Age             110527 non-null  int64  \n",
      " 6   Neighbourhood   110527 non-null  object \n",
      " 7   Scholarship     110527 non-null  int64  \n",
      " 8   Hipertension    110527 non-null  int64  \n",
      " 9   Diabetes        110527 non-null  int64  \n",
      " 10  Alcoholism      110527 non-null  int64  \n",
      " 11  Handcap         110527 non-null  int64  \n",
      " 12  SMS_received    110527 non-null  int64  \n",
      " 13  No-show         110527 non-null  object \n",
      "dtypes: float64(1), int64(8), object(5)\n",
      "memory usage: 11.8+ MB\n"
     ]
    }
   ],
   "source": [
    "#information about dataset\n",
    "df.info()"
   ]
  },
  {
   "cell_type": "markdown",
   "id": "4c4ec780",
   "metadata": {},
   "source": [
    "# notes from dataset information :\n",
    "\n",
    "\n",
    "we can notice there are no NaNs in our data.\n",
    "\n",
    "we have one column float datatype,8 column int datatype ,and 5 column object(string) datatype .\n",
    "\n",
    "PatientId and AppointmentId columns wouldn't be helpful during analysis so we can drop them.\n",
    "\n",
    "ScheduledDay and AppointmentDay needs to be casted to date datatype.\n",
    "\n",
    "we may append a new column for days until appointment.\n",
    "\n",
    "Gender needs to be converted into a categoy datatype.\n",
    "\n",
    "Scholarship Hipertension Diabetes Alcoholism Handcap better be boolean datatype.\n",
    "\n",
    "No-show needs to be parsed and casted to boolean data type.\n"
   ]
  },
  {
   "cell_type": "code",
   "execution_count": 31,
   "id": "4f966a4e",
   "metadata": {},
   "outputs": [
    {
     "data": {
      "text/plain": [
       "0"
      ]
     },
     "execution_count": 31,
     "metadata": {},
     "output_type": "execute_result"
    }
   ],
   "source": [
    "#duplicates in our data set\n",
    "df.duplicated().sum()"
   ]
  },
  {
   "cell_type": "markdown",
   "id": "f4efc050",
   "metadata": {},
   "source": [
    "no duplicated rows in dataset"
   ]
  },
  {
   "cell_type": "code",
   "execution_count": 32,
   "id": "c18f7476",
   "metadata": {},
   "outputs": [
    {
     "data": {
      "text/plain": [
       "PatientId          62299\n",
       "AppointmentID     110527\n",
       "Gender                 2\n",
       "ScheduledDay      103549\n",
       "AppointmentDay        27\n",
       "Age                  104\n",
       "Neighbourhood         81\n",
       "Scholarship            2\n",
       "Hipertension           2\n",
       "Diabetes               2\n",
       "Alcoholism             2\n",
       "Handcap                5\n",
       "SMS_received           2\n",
       "No-show                2\n",
       "dtype: int64"
      ]
     },
     "execution_count": 32,
     "metadata": {},
     "output_type": "execute_result"
    }
   ],
   "source": [
    "#unique values of each column in our dataset\n",
    "df.nunique()"
   ]
  },
  {
   "cell_type": "code",
   "execution_count": 33,
   "id": "1c833668",
   "metadata": {},
   "outputs": [
    {
     "data": {
      "text/plain": [
       "0    108286\n",
       "1      2042\n",
       "2       183\n",
       "3        13\n",
       "4         3\n",
       "Name: Handcap, dtype: int64"
      ]
     },
     "execution_count": 33,
     "metadata": {},
     "output_type": "execute_result"
    }
   ],
   "source": [
    " df['Handcap'].value_counts()"
   ]
  },
  {
   "cell_type": "code",
   "execution_count": 34,
   "id": "cdec4092",
   "metadata": {},
   "outputs": [
    {
     "data": {
      "text/plain": [
       "count    110527.000000\n",
       "mean         37.088874\n",
       "std          23.110205\n",
       "min          -1.000000\n",
       "25%          18.000000\n",
       "50%          37.000000\n",
       "75%          55.000000\n",
       "max         115.000000\n",
       "Name: Age, dtype: float64"
      ]
     },
     "execution_count": 34,
     "metadata": {},
     "output_type": "execute_result"
    }
   ],
   "source": [
    "#age colomn statistics info\n",
    "df['Age'].describe() "
   ]
  },
  {
   "cell_type": "markdown",
   "id": "ec87fe24",
   "metadata": {},
   "source": [
    "# Exploration Summery\n",
    "our dataset consists of 110527 rows with 14 columns, and has no NaNs nor duplicated values.\n",
    "\n",
    "PatientId and AppointmentId columns wouldn't be helpful during analysis.\n",
    "\n",
    "ScheduledDay and AppointmentDay needs to be casted to date data type.\n",
    "\n",
    "we may append a new column for days until appointment.\n",
    "\n",
    "Gender needs to be casted into a categoy type\n",
    "\n",
    "Scholarship, Hipertension, Diabetes, Alcoholism and SMS_recieved better be boolean data type.\n",
    "\n",
    "No-show column needs to be parsed and asted to boolean type.\n",
    "\n",
    "Handcap colume needs to be cleaned to have only 0 and 1 values.\n",
    "\n",
    "Age columns has inconsistant unique values that needs to be handled."
   ]
  },
  {
   "cell_type": "markdown",
   "id": "816b6b99",
   "metadata": {},
   "source": [
    "# Data Cleaning\n",
    "\n",
    "in this section, we'd perform some operations on our dataset based on the previous findings to make our analysis more accurate and clear"
   ]
  },
  {
   "cell_type": "code",
   "execution_count": 35,
   "id": "3f91cd66",
   "metadata": {},
   "outputs": [
    {
     "data": {
      "text/plain": [
       "Index(['Gender', 'ScheduledDay', 'AppointmentDay', 'Age', 'Neighbourhood',\n",
       "       'Scholarship', 'Hipertension', 'Diabetes', 'Alcoholism', 'Handcap',\n",
       "       'SMS_received', 'No-show'],\n",
       "      dtype='object')"
      ]
     },
     "execution_count": 35,
     "metadata": {},
     "output_type": "execute_result"
    }
   ],
   "source": [
    "# dropping columns and validating changes\n",
    "#df.drop(['PatientId', 'AppointmentID'], axis = 1, inplace = True)\n",
    "# Creating a Function to remove columns\n",
    "def remove_columns(columns):\n",
    "    return df.drop(columns=columns, inplace=True)\n",
    "\n",
    "# Calling th above function to remove 'Patient_id' and 'Appointment_id'\n",
    "to_be_removed = ['PatientId','AppointmentID']\n",
    "remove_columns(to_be_removed)\n",
    "df.columns"
   ]
  },
  {
   "cell_type": "markdown",
   "id": "61a2a79e",
   "metadata": {},
   "source": [
    "Handling date data type"
   ]
  },
  {
   "cell_type": "code",
   "execution_count": 36,
   "id": "6958ddca",
   "metadata": {},
   "outputs": [
    {
     "data": {
      "text/plain": [
       "<bound method Series.unique of 0         2016-04-29T00:00:00Z\n",
       "1         2016-04-29T00:00:00Z\n",
       "2         2016-04-29T00:00:00Z\n",
       "3         2016-04-29T00:00:00Z\n",
       "4         2016-04-29T00:00:00Z\n",
       "                  ...         \n",
       "110522    2016-06-07T00:00:00Z\n",
       "110523    2016-06-07T00:00:00Z\n",
       "110524    2016-06-07T00:00:00Z\n",
       "110525    2016-06-07T00:00:00Z\n",
       "110526    2016-06-07T00:00:00Z\n",
       "Name: AppointmentDay, Length: 110527, dtype: object>"
      ]
     },
     "execution_count": 36,
     "metadata": {},
     "output_type": "execute_result"
    }
   ],
   "source": [
    "df.AppointmentDay.unique"
   ]
  },
  {
   "cell_type": "code",
   "execution_count": 37,
   "id": "8a359cd9",
   "metadata": {},
   "outputs": [
    {
     "name": "stdout",
     "output_type": "stream",
     "text": [
      "AppointmentDay    datetime64[ns]\n",
      "ScheduledDay      datetime64[ns]\n",
      "dtype: object\n"
     ]
    },
    {
     "data": {
      "text/html": [
       "<div>\n",
       "<style scoped>\n",
       "    .dataframe tbody tr th:only-of-type {\n",
       "        vertical-align: middle;\n",
       "    }\n",
       "\n",
       "    .dataframe tbody tr th {\n",
       "        vertical-align: top;\n",
       "    }\n",
       "\n",
       "    .dataframe thead th {\n",
       "        text-align: right;\n",
       "    }\n",
       "</style>\n",
       "<table border=\"1\" class=\"dataframe\">\n",
       "  <thead>\n",
       "    <tr style=\"text-align: right;\">\n",
       "      <th></th>\n",
       "      <th>Gender</th>\n",
       "      <th>ScheduledDay</th>\n",
       "      <th>AppointmentDay</th>\n",
       "      <th>Age</th>\n",
       "      <th>Neighbourhood</th>\n",
       "      <th>Scholarship</th>\n",
       "      <th>Hipertension</th>\n",
       "      <th>Diabetes</th>\n",
       "      <th>Alcoholism</th>\n",
       "      <th>Handcap</th>\n",
       "      <th>SMS_received</th>\n",
       "      <th>No-show</th>\n",
       "    </tr>\n",
       "  </thead>\n",
       "  <tbody>\n",
       "    <tr>\n",
       "      <th>0</th>\n",
       "      <td>F</td>\n",
       "      <td>2016-04-29</td>\n",
       "      <td>2016-04-29</td>\n",
       "      <td>62</td>\n",
       "      <td>JARDIM DA PENHA</td>\n",
       "      <td>0</td>\n",
       "      <td>1</td>\n",
       "      <td>0</td>\n",
       "      <td>0</td>\n",
       "      <td>0</td>\n",
       "      <td>0</td>\n",
       "      <td>No</td>\n",
       "    </tr>\n",
       "    <tr>\n",
       "      <th>1</th>\n",
       "      <td>M</td>\n",
       "      <td>2016-04-29</td>\n",
       "      <td>2016-04-29</td>\n",
       "      <td>56</td>\n",
       "      <td>JARDIM DA PENHA</td>\n",
       "      <td>0</td>\n",
       "      <td>0</td>\n",
       "      <td>0</td>\n",
       "      <td>0</td>\n",
       "      <td>0</td>\n",
       "      <td>0</td>\n",
       "      <td>No</td>\n",
       "    </tr>\n",
       "    <tr>\n",
       "      <th>2</th>\n",
       "      <td>F</td>\n",
       "      <td>2016-04-29</td>\n",
       "      <td>2016-04-29</td>\n",
       "      <td>62</td>\n",
       "      <td>MATA DA PRAIA</td>\n",
       "      <td>0</td>\n",
       "      <td>0</td>\n",
       "      <td>0</td>\n",
       "      <td>0</td>\n",
       "      <td>0</td>\n",
       "      <td>0</td>\n",
       "      <td>No</td>\n",
       "    </tr>\n",
       "    <tr>\n",
       "      <th>3</th>\n",
       "      <td>F</td>\n",
       "      <td>2016-04-29</td>\n",
       "      <td>2016-04-29</td>\n",
       "      <td>8</td>\n",
       "      <td>PONTAL DE CAMBURI</td>\n",
       "      <td>0</td>\n",
       "      <td>0</td>\n",
       "      <td>0</td>\n",
       "      <td>0</td>\n",
       "      <td>0</td>\n",
       "      <td>0</td>\n",
       "      <td>No</td>\n",
       "    </tr>\n",
       "    <tr>\n",
       "      <th>4</th>\n",
       "      <td>F</td>\n",
       "      <td>2016-04-29</td>\n",
       "      <td>2016-04-29</td>\n",
       "      <td>56</td>\n",
       "      <td>JARDIM DA PENHA</td>\n",
       "      <td>0</td>\n",
       "      <td>1</td>\n",
       "      <td>1</td>\n",
       "      <td>0</td>\n",
       "      <td>0</td>\n",
       "      <td>0</td>\n",
       "      <td>No</td>\n",
       "    </tr>\n",
       "  </tbody>\n",
       "</table>\n",
       "</div>"
      ],
      "text/plain": [
       "  Gender ScheduledDay AppointmentDay  Age      Neighbourhood  Scholarship  \\\n",
       "0      F   2016-04-29     2016-04-29   62    JARDIM DA PENHA            0   \n",
       "1      M   2016-04-29     2016-04-29   56    JARDIM DA PENHA            0   \n",
       "2      F   2016-04-29     2016-04-29   62      MATA DA PRAIA            0   \n",
       "3      F   2016-04-29     2016-04-29    8  PONTAL DE CAMBURI            0   \n",
       "4      F   2016-04-29     2016-04-29   56    JARDIM DA PENHA            0   \n",
       "\n",
       "   Hipertension  Diabetes  Alcoholism  Handcap  SMS_received No-show  \n",
       "0             1         0           0        0             0      No  \n",
       "1             0         0           0        0             0      No  \n",
       "2             0         0           0        0             0      No  \n",
       "3             0         0           0        0             0      No  \n",
       "4             1         1           0        0             0      No  "
      ]
     },
     "execution_count": 37,
     "metadata": {},
     "output_type": "execute_result"
    }
   ],
   "source": [
    "# extracting only day, month and year values\n",
    "df['ScheduledDay'] = df['ScheduledDay'].str[:10]\n",
    "df['AppointmentDay'] = df['AppointmentDay'].str[:10]\n",
    "\n",
    "# changing data type\n",
    "df['ScheduledDay'] = pd.to_datetime(df['ScheduledDay'])\n",
    "df['AppointmentDay'] = pd.to_datetime(df['AppointmentDay'])\n",
    "\n",
    "# confirming changes\n",
    "print(df[['AppointmentDay', 'ScheduledDay']].dtypes)\n",
    "df.head()"
   ]
  },
  {
   "cell_type": "code",
   "execution_count": 38,
   "id": "525bbc75",
   "metadata": {},
   "outputs": [],
   "source": [
    "# making new due days column\n",
    "df['due-days'] = df['AppointmentDay'] - df['ScheduledDay']\n",
    "\n",
    "# converting data type \n",
    "df['due-days'] = df['due-days'].dt.days\n",
    "\n",
    "# drop sch and appoint col\n",
    "df.drop(['AppointmentDay', 'ScheduledDay'], axis = 1, inplace = True)"
   ]
  },
  {
   "cell_type": "code",
   "execution_count": 39,
   "id": "16a7e7c5",
   "metadata": {},
   "outputs": [
    {
     "data": {
      "text/plain": [
       "count    110527.000000\n",
       "mean         10.183702\n",
       "std          15.254996\n",
       "min          -6.000000\n",
       "25%           0.000000\n",
       "50%           4.000000\n",
       "75%          15.000000\n",
       "max         179.000000\n",
       "Name: due-days, dtype: float64"
      ]
     },
     "execution_count": 39,
     "metadata": {},
     "output_type": "execute_result"
    }
   ],
   "source": [
    "# viewing summery statistics\n",
    "df['due-days'].describe()"
   ]
  },
  {
   "cell_type": "code",
   "execution_count": 40,
   "id": "6851a9da",
   "metadata": {},
   "outputs": [
    {
     "data": {
      "text/html": [
       "<div>\n",
       "<style scoped>\n",
       "    .dataframe tbody tr th:only-of-type {\n",
       "        vertical-align: middle;\n",
       "    }\n",
       "\n",
       "    .dataframe tbody tr th {\n",
       "        vertical-align: top;\n",
       "    }\n",
       "\n",
       "    .dataframe thead th {\n",
       "        text-align: right;\n",
       "    }\n",
       "</style>\n",
       "<table border=\"1\" class=\"dataframe\">\n",
       "  <thead>\n",
       "    <tr style=\"text-align: right;\">\n",
       "      <th></th>\n",
       "      <th>Gender</th>\n",
       "      <th>Age</th>\n",
       "      <th>Neighbourhood</th>\n",
       "      <th>Scholarship</th>\n",
       "      <th>Hipertension</th>\n",
       "      <th>Diabetes</th>\n",
       "      <th>Alcoholism</th>\n",
       "      <th>Handcap</th>\n",
       "      <th>SMS_received</th>\n",
       "      <th>No-show</th>\n",
       "      <th>due-days</th>\n",
       "    </tr>\n",
       "  </thead>\n",
       "  <tbody>\n",
       "    <tr>\n",
       "      <th>27033</th>\n",
       "      <td>M</td>\n",
       "      <td>38</td>\n",
       "      <td>RESISTÊNCIA</td>\n",
       "      <td>0</td>\n",
       "      <td>0</td>\n",
       "      <td>0</td>\n",
       "      <td>0</td>\n",
       "      <td>1</td>\n",
       "      <td>0</td>\n",
       "      <td>Yes</td>\n",
       "      <td>-1</td>\n",
       "    </tr>\n",
       "    <tr>\n",
       "      <th>55226</th>\n",
       "      <td>F</td>\n",
       "      <td>19</td>\n",
       "      <td>SANTO ANTÔNIO</td>\n",
       "      <td>0</td>\n",
       "      <td>0</td>\n",
       "      <td>0</td>\n",
       "      <td>0</td>\n",
       "      <td>1</td>\n",
       "      <td>0</td>\n",
       "      <td>Yes</td>\n",
       "      <td>-1</td>\n",
       "    </tr>\n",
       "    <tr>\n",
       "      <th>64175</th>\n",
       "      <td>F</td>\n",
       "      <td>22</td>\n",
       "      <td>CONSOLAÇÃO</td>\n",
       "      <td>0</td>\n",
       "      <td>0</td>\n",
       "      <td>0</td>\n",
       "      <td>0</td>\n",
       "      <td>0</td>\n",
       "      <td>0</td>\n",
       "      <td>Yes</td>\n",
       "      <td>-1</td>\n",
       "    </tr>\n",
       "    <tr>\n",
       "      <th>71533</th>\n",
       "      <td>F</td>\n",
       "      <td>81</td>\n",
       "      <td>SANTO ANTÔNIO</td>\n",
       "      <td>0</td>\n",
       "      <td>0</td>\n",
       "      <td>0</td>\n",
       "      <td>0</td>\n",
       "      <td>0</td>\n",
       "      <td>0</td>\n",
       "      <td>Yes</td>\n",
       "      <td>-6</td>\n",
       "    </tr>\n",
       "    <tr>\n",
       "      <th>72362</th>\n",
       "      <td>M</td>\n",
       "      <td>7</td>\n",
       "      <td>TABUAZEIRO</td>\n",
       "      <td>0</td>\n",
       "      <td>0</td>\n",
       "      <td>0</td>\n",
       "      <td>0</td>\n",
       "      <td>0</td>\n",
       "      <td>0</td>\n",
       "      <td>Yes</td>\n",
       "      <td>-1</td>\n",
       "    </tr>\n",
       "  </tbody>\n",
       "</table>\n",
       "</div>"
      ],
      "text/plain": [
       "      Gender  Age  Neighbourhood  Scholarship  Hipertension  Diabetes  \\\n",
       "27033      M   38    RESISTÊNCIA            0             0         0   \n",
       "55226      F   19  SANTO ANTÔNIO            0             0         0   \n",
       "64175      F   22     CONSOLAÇÃO            0             0         0   \n",
       "71533      F   81  SANTO ANTÔNIO            0             0         0   \n",
       "72362      M    7     TABUAZEIRO            0             0         0   \n",
       "\n",
       "       Alcoholism  Handcap  SMS_received No-show  due-days  \n",
       "27033           0        1             0     Yes        -1  \n",
       "55226           0        1             0     Yes        -1  \n",
       "64175           0        0             0     Yes        -1  \n",
       "71533           0        0             0     Yes        -6  \n",
       "72362           0        0             0     Yes        -1  "
      ]
     },
     "execution_count": 40,
     "metadata": {},
     "output_type": "execute_result"
    }
   ],
   "source": [
    "# viewing negative days values\n",
    "df[df['due-days'] < 0 ]"
   ]
  },
  {
   "cell_type": "code",
   "execution_count": 41,
   "id": "5cbec771",
   "metadata": {},
   "outputs": [
    {
     "data": {
      "text/plain": [
       "count    110522.000000\n",
       "mean         10.184253\n",
       "std          15.255115\n",
       "min           0.000000\n",
       "25%           0.000000\n",
       "50%           4.000000\n",
       "75%          15.000000\n",
       "max         179.000000\n",
       "Name: due-days, dtype: float64"
      ]
     },
     "execution_count": 41,
     "metadata": {},
     "output_type": "execute_result"
    }
   ],
   "source": [
    "# dropping these values and confirming changes\n",
    "df.drop(df[df['due-days'] < 0].index, inplace = True)\n",
    "df['due-days'].describe()"
   ]
  },
  {
   "cell_type": "code",
   "execution_count": 42,
   "id": "832654ee",
   "metadata": {},
   "outputs": [
    {
     "data": {
      "text/plain": [
       "CategoricalDtype(categories=['F', 'M'], ordered=False)"
      ]
     },
     "execution_count": 42,
     "metadata": {},
     "output_type": "execute_result"
    }
   ],
   "source": [
    "# converting column and confirming changes\n",
    "df['Gender'] = df['Gender'].astype('category')\n",
    "df['Gender'].dtypes"
   ]
  },
  {
   "cell_type": "code",
   "execution_count": 43,
   "id": "43a2a71f",
   "metadata": {},
   "outputs": [
    {
     "data": {
      "text/plain": [
       "Scholarship     bool\n",
       "Hipertension    bool\n",
       "Diabetes        bool\n",
       "Alcoholism      bool\n",
       "SMS_received    bool\n",
       "dtype: object"
      ]
     },
     "execution_count": 43,
     "metadata": {},
     "output_type": "execute_result"
    }
   ],
   "source": [
    "# converting columns to bool and confirming changes\n",
    "cols = ['Scholarship', 'Hipertension', 'Diabetes', 'Alcoholism', 'SMS_received']\n",
    "df[cols] = df[cols].astype('bool')\n",
    "df[cols].dtypes"
   ]
  },
  {
   "cell_type": "code",
   "execution_count": 44,
   "id": "496b78b2",
   "metadata": {},
   "outputs": [
    {
     "data": {
      "text/plain": [
       "dtype('bool')"
      ]
     },
     "execution_count": 44,
     "metadata": {},
     "output_type": "execute_result"
    }
   ],
   "source": [
    "# mapping alues to be more familiar\n",
    "df.loc[df['No-show'] == 'Yes', 'No-show'] = 0\n",
    "df.loc[df['No-show'] == 'No', 'No-show'] = 1\n",
    "\n",
    "# casting dt type and confirming changes\n",
    "df['No-show'] = df['No-show'].astype(bool)\n",
    "df['No-show'].dtypes"
   ]
  },
  {
   "cell_type": "code",
   "execution_count": 45,
   "id": "f16f2933",
   "metadata": {},
   "outputs": [
    {
     "data": {
      "text/html": [
       "<div>\n",
       "<style scoped>\n",
       "    .dataframe tbody tr th:only-of-type {\n",
       "        vertical-align: middle;\n",
       "    }\n",
       "\n",
       "    .dataframe tbody tr th {\n",
       "        vertical-align: top;\n",
       "    }\n",
       "\n",
       "    .dataframe thead th {\n",
       "        text-align: right;\n",
       "    }\n",
       "</style>\n",
       "<table border=\"1\" class=\"dataframe\">\n",
       "  <thead>\n",
       "    <tr style=\"text-align: right;\">\n",
       "      <th></th>\n",
       "      <th>Gender</th>\n",
       "      <th>Age</th>\n",
       "      <th>Neighbourhood</th>\n",
       "      <th>Scholarship</th>\n",
       "      <th>Hipertension</th>\n",
       "      <th>Diabetes</th>\n",
       "      <th>Alcoholism</th>\n",
       "      <th>Handcap</th>\n",
       "      <th>SMS_received</th>\n",
       "      <th>No-show</th>\n",
       "      <th>due-days</th>\n",
       "    </tr>\n",
       "  </thead>\n",
       "  <tbody>\n",
       "    <tr>\n",
       "      <th>946</th>\n",
       "      <td>M</td>\n",
       "      <td>94</td>\n",
       "      <td>BELA VISTA</td>\n",
       "      <td>False</td>\n",
       "      <td>True</td>\n",
       "      <td>True</td>\n",
       "      <td>False</td>\n",
       "      <td>2</td>\n",
       "      <td>True</td>\n",
       "      <td>True</td>\n",
       "      <td>15</td>\n",
       "    </tr>\n",
       "    <tr>\n",
       "      <th>1665</th>\n",
       "      <td>M</td>\n",
       "      <td>64</td>\n",
       "      <td>SANTA MARTHA</td>\n",
       "      <td>False</td>\n",
       "      <td>True</td>\n",
       "      <td>False</td>\n",
       "      <td>True</td>\n",
       "      <td>2</td>\n",
       "      <td>True</td>\n",
       "      <td>True</td>\n",
       "      <td>30</td>\n",
       "    </tr>\n",
       "    <tr>\n",
       "      <th>1666</th>\n",
       "      <td>M</td>\n",
       "      <td>64</td>\n",
       "      <td>SANTA MARTHA</td>\n",
       "      <td>False</td>\n",
       "      <td>True</td>\n",
       "      <td>False</td>\n",
       "      <td>True</td>\n",
       "      <td>2</td>\n",
       "      <td>False</td>\n",
       "      <td>True</td>\n",
       "      <td>30</td>\n",
       "    </tr>\n",
       "    <tr>\n",
       "      <th>2071</th>\n",
       "      <td>M</td>\n",
       "      <td>64</td>\n",
       "      <td>SANTA MARTHA</td>\n",
       "      <td>False</td>\n",
       "      <td>True</td>\n",
       "      <td>False</td>\n",
       "      <td>True</td>\n",
       "      <td>2</td>\n",
       "      <td>False</td>\n",
       "      <td>True</td>\n",
       "      <td>0</td>\n",
       "    </tr>\n",
       "    <tr>\n",
       "      <th>2091</th>\n",
       "      <td>F</td>\n",
       "      <td>11</td>\n",
       "      <td>ANDORINHAS</td>\n",
       "      <td>False</td>\n",
       "      <td>False</td>\n",
       "      <td>False</td>\n",
       "      <td>False</td>\n",
       "      <td>2</td>\n",
       "      <td>False</td>\n",
       "      <td>True</td>\n",
       "      <td>0</td>\n",
       "    </tr>\n",
       "    <tr>\n",
       "      <th>...</th>\n",
       "      <td>...</td>\n",
       "      <td>...</td>\n",
       "      <td>...</td>\n",
       "      <td>...</td>\n",
       "      <td>...</td>\n",
       "      <td>...</td>\n",
       "      <td>...</td>\n",
       "      <td>...</td>\n",
       "      <td>...</td>\n",
       "      <td>...</td>\n",
       "      <td>...</td>\n",
       "    </tr>\n",
       "    <tr>\n",
       "      <th>108376</th>\n",
       "      <td>F</td>\n",
       "      <td>44</td>\n",
       "      <td>ROMÃO</td>\n",
       "      <td>False</td>\n",
       "      <td>True</td>\n",
       "      <td>True</td>\n",
       "      <td>False</td>\n",
       "      <td>2</td>\n",
       "      <td>True</td>\n",
       "      <td>True</td>\n",
       "      <td>6</td>\n",
       "    </tr>\n",
       "    <tr>\n",
       "      <th>109484</th>\n",
       "      <td>M</td>\n",
       "      <td>64</td>\n",
       "      <td>DA PENHA</td>\n",
       "      <td>False</td>\n",
       "      <td>True</td>\n",
       "      <td>True</td>\n",
       "      <td>False</td>\n",
       "      <td>2</td>\n",
       "      <td>False</td>\n",
       "      <td>True</td>\n",
       "      <td>2</td>\n",
       "    </tr>\n",
       "    <tr>\n",
       "      <th>109733</th>\n",
       "      <td>F</td>\n",
       "      <td>34</td>\n",
       "      <td>JUCUTUQUARA</td>\n",
       "      <td>False</td>\n",
       "      <td>False</td>\n",
       "      <td>False</td>\n",
       "      <td>False</td>\n",
       "      <td>2</td>\n",
       "      <td>True</td>\n",
       "      <td>True</td>\n",
       "      <td>4</td>\n",
       "    </tr>\n",
       "    <tr>\n",
       "      <th>109975</th>\n",
       "      <td>M</td>\n",
       "      <td>39</td>\n",
       "      <td>PRAIA DO SUÁ</td>\n",
       "      <td>True</td>\n",
       "      <td>False</td>\n",
       "      <td>False</td>\n",
       "      <td>False</td>\n",
       "      <td>2</td>\n",
       "      <td>True</td>\n",
       "      <td>True</td>\n",
       "      <td>4</td>\n",
       "    </tr>\n",
       "    <tr>\n",
       "      <th>110107</th>\n",
       "      <td>F</td>\n",
       "      <td>44</td>\n",
       "      <td>RESISTÊNCIA</td>\n",
       "      <td>False</td>\n",
       "      <td>False</td>\n",
       "      <td>False</td>\n",
       "      <td>False</td>\n",
       "      <td>2</td>\n",
       "      <td>True</td>\n",
       "      <td>True</td>\n",
       "      <td>4</td>\n",
       "    </tr>\n",
       "  </tbody>\n",
       "</table>\n",
       "<p>199 rows × 11 columns</p>\n",
       "</div>"
      ],
      "text/plain": [
       "       Gender  Age Neighbourhood  Scholarship  Hipertension  Diabetes  \\\n",
       "946         M   94    BELA VISTA        False          True      True   \n",
       "1665        M   64  SANTA MARTHA        False          True     False   \n",
       "1666        M   64  SANTA MARTHA        False          True     False   \n",
       "2071        M   64  SANTA MARTHA        False          True     False   \n",
       "2091        F   11    ANDORINHAS        False         False     False   \n",
       "...       ...  ...           ...          ...           ...       ...   \n",
       "108376      F   44         ROMÃO        False          True      True   \n",
       "109484      M   64      DA PENHA        False          True      True   \n",
       "109733      F   34   JUCUTUQUARA        False         False     False   \n",
       "109975      M   39  PRAIA DO SUÁ         True         False     False   \n",
       "110107      F   44   RESISTÊNCIA        False         False     False   \n",
       "\n",
       "        Alcoholism  Handcap  SMS_received  No-show  due-days  \n",
       "946          False        2          True     True        15  \n",
       "1665          True        2          True     True        30  \n",
       "1666          True        2         False     True        30  \n",
       "2071          True        2         False     True         0  \n",
       "2091         False        2         False     True         0  \n",
       "...            ...      ...           ...      ...       ...  \n",
       "108376       False        2          True     True         6  \n",
       "109484       False        2         False     True         2  \n",
       "109733       False        2          True     True         4  \n",
       "109975       False        2          True     True         4  \n",
       "110107       False        2          True     True         4  \n",
       "\n",
       "[199 rows x 11 columns]"
      ]
     },
     "execution_count": 45,
     "metadata": {},
     "output_type": "execute_result"
    }
   ],
   "source": [
    "# viewing rows with values of handcap > 1\n",
    "df[df['Handcap'] > 1]"
   ]
  },
  {
   "cell_type": "code",
   "execution_count": 19,
   "id": "e6df16b6",
   "metadata": {},
   "outputs": [
    {
     "data": {
      "text/plain": [
       "array([False,  True])"
      ]
     },
     "execution_count": 19,
     "metadata": {},
     "output_type": "execute_result"
    }
   ],
   "source": [
    "# filling the bigger values with 1\n",
    "df.loc[df['Handcap'].isin([2, 3, 4]), 'Handcap'] = 1\n",
    "\n",
    "# casting type and confirming changes\n",
    "df['Handcap'] = df['Handcap'].astype('bool')\n",
    "df['Handcap'].unique()"
   ]
  },
  {
   "cell_type": "code",
   "execution_count": 20,
   "id": "9745affc",
   "metadata": {},
   "outputs": [
    {
     "data": {
      "text/html": [
       "<div>\n",
       "<style scoped>\n",
       "    .dataframe tbody tr th:only-of-type {\n",
       "        vertical-align: middle;\n",
       "    }\n",
       "\n",
       "    .dataframe tbody tr th {\n",
       "        vertical-align: top;\n",
       "    }\n",
       "\n",
       "    .dataframe thead th {\n",
       "        text-align: right;\n",
       "    }\n",
       "</style>\n",
       "<table border=\"1\" class=\"dataframe\">\n",
       "  <thead>\n",
       "    <tr style=\"text-align: right;\">\n",
       "      <th></th>\n",
       "      <th>Gender</th>\n",
       "      <th>Age</th>\n",
       "      <th>Neighbourhood</th>\n",
       "      <th>Scholarship</th>\n",
       "      <th>Hipertension</th>\n",
       "      <th>Diabetes</th>\n",
       "      <th>Alcoholism</th>\n",
       "      <th>Handcap</th>\n",
       "      <th>SMS_received</th>\n",
       "      <th>No-show</th>\n",
       "      <th>due-days</th>\n",
       "    </tr>\n",
       "  </thead>\n",
       "  <tbody>\n",
       "    <tr>\n",
       "      <th>99832</th>\n",
       "      <td>F</td>\n",
       "      <td>-1</td>\n",
       "      <td>ROMÃO</td>\n",
       "      <td>False</td>\n",
       "      <td>False</td>\n",
       "      <td>False</td>\n",
       "      <td>False</td>\n",
       "      <td>False</td>\n",
       "      <td>False</td>\n",
       "      <td>True</td>\n",
       "      <td>0</td>\n",
       "    </tr>\n",
       "  </tbody>\n",
       "</table>\n",
       "</div>"
      ],
      "text/plain": [
       "      Gender  Age Neighbourhood  Scholarship  Hipertension  Diabetes  \\\n",
       "99832      F   -1         ROMÃO        False         False     False   \n",
       "\n",
       "       Alcoholism  Handcap  SMS_received  No-show  due-days  \n",
       "99832       False    False         False     True         0  "
      ]
     },
     "execution_count": 20,
     "metadata": {},
     "output_type": "execute_result"
    }
   ],
   "source": [
    "#exploring values below 0\n",
    "df[df['Age'] < 0]"
   ]
  },
  {
   "cell_type": "code",
   "execution_count": 21,
   "id": "6f1dea5c",
   "metadata": {},
   "outputs": [
    {
     "data": {
      "text/html": [
       "<div>\n",
       "<style scoped>\n",
       "    .dataframe tbody tr th:only-of-type {\n",
       "        vertical-align: middle;\n",
       "    }\n",
       "\n",
       "    .dataframe tbody tr th {\n",
       "        vertical-align: top;\n",
       "    }\n",
       "\n",
       "    .dataframe thead th {\n",
       "        text-align: right;\n",
       "    }\n",
       "</style>\n",
       "<table border=\"1\" class=\"dataframe\">\n",
       "  <thead>\n",
       "    <tr style=\"text-align: right;\">\n",
       "      <th></th>\n",
       "      <th>Gender</th>\n",
       "      <th>Age</th>\n",
       "      <th>Neighbourhood</th>\n",
       "      <th>Scholarship</th>\n",
       "      <th>Hipertension</th>\n",
       "      <th>Diabetes</th>\n",
       "      <th>Alcoholism</th>\n",
       "      <th>Handcap</th>\n",
       "      <th>SMS_received</th>\n",
       "      <th>No-show</th>\n",
       "      <th>due-days</th>\n",
       "    </tr>\n",
       "  </thead>\n",
       "  <tbody>\n",
       "  </tbody>\n",
       "</table>\n",
       "</div>"
      ],
      "text/plain": [
       "Empty DataFrame\n",
       "Columns: [Gender, Age, Neighbourhood, Scholarship, Hipertension, Diabetes, Alcoholism, Handcap, SMS_received, No-show, due-days]\n",
       "Index: []"
      ]
     },
     "execution_count": 21,
     "metadata": {},
     "output_type": "execute_result"
    }
   ],
   "source": [
    "# dropping row with negative age and confirming changes\n",
    "df.drop(df[df['Age'] < 0].index, inplace = True)\n",
    "df[df['Age'] < 0]"
   ]
  },
  {
   "cell_type": "markdown",
   "id": "949420bd",
   "metadata": {},
   "source": [
    "We endded up with a datafram of 110521 rows and 11 columns, \n",
    "and everything looks tidy and clean. We'd proceed in visualizing it to extract meaningful insights from it.\n",
    "\n"
   ]
  },
  {
   "cell_type": "markdown",
   "id": "a8ded8d2",
   "metadata": {},
   "source": [
    "# Data Visualization and EDA\n",
    "Now that our data is clean, we'd perform some EDA on it in order to extract useful insights from it"
   ]
  },
  {
   "cell_type": "code",
   "execution_count": 24,
   "id": "cf5e55c3",
   "metadata": {},
   "outputs": [],
   "source": [
    "# setting seaborn configurations\n",
    "sns.set_style(\"whitegrid\") "
   ]
  },
  {
   "cell_type": "markdown",
   "id": "b0314406",
   "metadata": {},
   "source": [
    "# Q1 : How often do men go to hospitals compared to women? Which of them is more likely to show up?\n"
   ]
  },
  {
   "cell_type": "code",
   "execution_count": 25,
   "id": "b66e9c32",
   "metadata": {},
   "outputs": [
    {
     "data": {
      "image/png": "[encoded data removed]",
      "text/plain": [
       "<Figure size 432x288 with 1 Axes>"
      ]
     },
     "metadata": {},
     "output_type": "display_data"
    }
   ],
   "source": [
    "# viewing count plot of gender distribution in our dataset\n",
    "sns.countplot(x = 'Gender', data = df)\n",
    "plt.title(\"Gender Distribution\")\n",
    "plt.show()"
   ]
  },
  {
   "cell_type": "code",
   "execution_count": 26,
   "id": "c575dbcd",
   "metadata": {},
   "outputs": [
    {
     "data": {
      "image/png": "[encoded data removed]",
      "text/plain": [
       "<Figure size 432x288 with 1 Axes>"
      ]
     },
     "metadata": {},
     "output_type": "display_data"
    }
   ],
   "source": [
    "# viewing count plot of gender distribution against age in our dataset\n",
    "sns.boxplot(x = 'Gender', y = 'Age', data = df)\n",
    "plt.title(\"Gender Distribution against Age\")\n",
    "plt.show()"
   ]
  },
  {
   "cell_type": "markdown",
   "id": "984e686d",
   "metadata": {},
   "source": [
    " we can notice that nearly half of our dataset conists of women with wider age destribution and some outliers, all of which achiees a rate higher than men."
   ]
  },
  {
   "cell_type": "code",
   "execution_count": 27,
   "id": "2c3c6725",
   "metadata": {},
   "outputs": [
    {
     "data": {
      "text/plain": [
       "True     88207\n",
       "False    22314\n",
       "Name: No-show, dtype: int64"
      ]
     },
     "execution_count": 27,
     "metadata": {},
     "output_type": "execute_result"
    }
   ],
   "source": [
    "df['No-show'].value_counts()"
   ]
  },
  {
   "cell_type": "markdown",
   "id": "b8d50a54",
   "metadata": {},
   "source": [
    "it is obvious that 79.8% of our patients did show up on their appointments and only 20.1% of them did not.\n",
    "lets dive deeper to see if this is related to gender."
   ]
  },
  {
   "cell_type": "code",
   "execution_count": 28,
   "id": "92da40ee",
   "metadata": {},
   "outputs": [
    {
     "data": {
      "image/png": "[encoded data removed]",
      "text/plain": [
       "<Figure size 432x288 with 1 Axes>"
      ]
     },
     "metadata": {},
     "output_type": "display_data"
    }
   ],
   "source": [
    "# showing the gender destribution with respect to the no-show colunmn\n",
    "sns.countplot(x = 'Gender', data = df, hue = 'No-show')\n",
    "plt.title('gender destribution with respect to no-show colunmn')\n",
    "plt.show()"
   ]
  },
  {
   "cell_type": "markdown",
   "id": "74b74236",
   "metadata": {},
   "source": [
    "from the above chart, we can come up with a conclusion that women do show up on their appointments more often than men do, but this may b affected by the percentage of women on this dataset"
   ]
  },
  {
   "cell_type": "markdown",
   "id": "50a86462",
   "metadata": {},
   "source": [
    "# Q2 :Does recieving an SMS as a reminder affect whether or not a patient may show up? is it correlated with number of days before the appointment?"
   ]
  },
  {
   "cell_type": "code",
   "execution_count": 29,
   "id": "2c68d6ac",
   "metadata": {},
   "outputs": [
    {
     "data": {
      "image/png": "[encoded data removed]",
      "text/plain": [
       "<Figure size 432x288 with 1 Axes>"
      ]
     },
     "metadata": {},
     "output_type": "display_data"
    }
   ],
   "source": [
    "# viewing count plot of recieving SMS distribution in our dataset\n",
    "sns.countplot(x = 'SMS_received', data = df)\n",
    "plt.title(\"SMS received destribution\")\n",
    "plt.show()"
   ]
  },
  {
   "cell_type": "code",
   "execution_count": 30,
   "id": "0ffbe933",
   "metadata": {},
   "outputs": [
    {
     "data": {
      "text/plain": [
       "False    75039\n",
       "True     35482\n",
       "Name: SMS_received, dtype: int64"
      ]
     },
     "execution_count": 30,
     "metadata": {},
     "output_type": "execute_result"
    }
   ],
   "source": [
    "df['SMS_received'].value_counts()"
   ]
  },
  {
   "cell_type": "markdown",
   "id": "f472423d",
   "metadata": {},
   "source": [
    "we can see that 67.8% of our patients did not reciee any SMS reminder of their appointments, cound this be affecting their showin up?"
   ]
  },
  {
   "cell_type": "code",
   "execution_count": 31,
   "id": "d9b2b116",
   "metadata": {},
   "outputs": [
    {
     "data": {
      "image/png": "[encoded data removed]",
      "text/plain": [
       "<Figure size 432x288 with 1 Axes>"
      ]
     },
     "metadata": {},
     "output_type": "display_data"
    }
   ],
   "source": [
    "# showing the sms destribution with respect to the no-show colunmn\n",
    "sns.countplot(x = 'SMS_received', data = df, hue = 'No-show')\n",
    "plt.title('SMS destribution with respect to no-show colunmn')\n",
    "plt.show()"
   ]
  },
  {
   "cell_type": "markdown",
   "id": "1b5e9fa0",
   "metadata": {},
   "source": [
    "we can see that our previous deduction was not quiet correct, as the vast majority of our patients did not recieve any SMS reminder and yet they showed up on their appointments."
   ]
  },
  {
   "cell_type": "code",
   "execution_count": 32,
   "id": "ae6a5973",
   "metadata": {},
   "outputs": [
    {
     "data": {
      "image/png": "[encoded data removed]",
      "text/plain": [
       "<Figure size 432x288 with 1 Axes>"
      ]
     },
     "metadata": {},
     "output_type": "display_data"
    }
   ],
   "source": [
    "# viewing the correlation between no-show and due-days without outliers\n",
    "sns.boxplot(x = 'No-show', y = 'due-days', data = df, showfliers = False)\n",
    "plt.title('no-show against due-days')\n",
    "plt.show()"
   ]
  },
  {
   "cell_type": "markdown",
   "id": "5a67a203",
   "metadata": {},
   "source": [
    "it is clear that there is a correlation between number od due days and whether a patient shows up or not.\n",
    "patient with appointments from 0 to 30 days tend to show up more regularly, while patients with higher number of days tend to not show up"
   ]
  },
  {
   "cell_type": "code",
   "execution_count": 33,
   "id": "5d8cfad6",
   "metadata": {},
   "outputs": [
    {
     "data": {
      "image/png": "[encoded data removed]",
      "text/plain": [
       "<Figure size 432x288 with 1 Axes>"
      ]
     },
     "metadata": {},
     "output_type": "display_data"
    }
   ],
   "source": [
    "# viewing the correlation between no-show and due-days without outliers with respect to gender\n",
    "sns.boxplot(x = 'No-show', y = 'due-days', data = df, hue = 'Gender', showfliers = False)\n",
    "plt.title('no-show against due-days')\n",
    "plt.show()"
   ]
  },
  {
   "cell_type": "markdown",
   "id": "9bac1be5",
   "metadata": {},
   "source": [
    "gender does not affect number of due days and showing up at an appointment that much.\n"
   ]
  },
  {
   "cell_type": "markdown",
   "id": "daf58eb6",
   "metadata": {},
   "source": [
    "## Q3: Does having a scholarship affects showing up on a hospital appointment? What are the age groups affected by this?"
   ]
  },
  {
   "cell_type": "code",
   "execution_count": 34,
   "id": "6c01bc1c",
   "metadata": {},
   "outputs": [
    {
     "data": {
      "image/png": "[encoded data removed]",
      "text/plain": [
       "<Figure size 432x288 with 1 Axes>"
      ]
     },
     "metadata": {},
     "output_type": "display_data"
    }
   ],
   "source": [
    "# plotting having a scholarship against age\n",
    "sns.boxplot(x = 'Scholarship', y = 'Age', data = df)\n",
    "plt.title('shcolarship V.S. age')\n",
    "plt.show()"
   ]
  },
  {
   "cell_type": "code",
   "execution_count": 35,
   "id": "cb78f56c",
   "metadata": {},
   "outputs": [
    {
     "data": {
      "image/png": "[encoded data removed]",
      "text/plain": [
       "<Figure size 432x288 with 1 Axes>"
      ]
     },
     "metadata": {},
     "output_type": "display_data"
    }
   ],
   "source": [
    "# plotting having a scholarship against no show with respect to gender\n",
    "sns.barplot(x = 'Scholarship', y = 'No-show', hue = 'Gender', data = df)\n",
    "plt.title('shcolarship V.S. no show with respect to gender')\n",
    "plt.show()"
   ]
  },
  {
   "cell_type": "code",
   "execution_count": 36,
   "id": "d1d7fb36",
   "metadata": {},
   "outputs": [
    {
     "data": {
      "text/plain": [
       "<AxesSubplot:>"
      ]
     },
     "execution_count": 36,
     "metadata": {},
     "output_type": "execute_result"
    },
    {
     "data": {
      "image/png": "[encoded data removed]",
      "text/plain": [
       "<Figure size 432x288 with 1 Axes>"
      ]
     },
     "metadata": {},
     "output_type": "display_data"
    }
   ],
   "source": [
    "# ploting age destribution\n",
    "df['Age'].hist()"
   ]
  },
  {
   "cell_type": "markdown",
   "id": "4829e604",
   "metadata": {},
   "source": [
    "we can see that having a scolarship does not affect showing up to a doctor appointment that much and that huge age group is enrolled to that scholarship and also enrol their babies on."
   ]
  },
  {
   "cell_type": "markdown",
   "id": "8e862508",
   "metadata": {},
   "source": [
    "## Q4 : Does having certain deseas affects whather or not a patient may show up to their appointment? is it affected by gender?"
   ]
  },
  {
   "cell_type": "code",
   "execution_count": 37,
   "id": "199111a8",
   "metadata": {},
   "outputs": [
    {
     "data": {
      "image/png": "[encoded data removed]",
      "text/plain": [
       "<Figure size 1080x720 with 4 Axes>"
      ]
     },
     "metadata": {},
     "output_type": "display_data"
    }
   ],
   "source": [
    "# plotting deseases against no show\n",
    "plt.figure(figsize=(15,10))\n",
    "plt.subplot(2,2,1)\n",
    "sns.countplot(x = 'Hipertension', data = df, hue= 'No-show')\n",
    "plt.subplot(2,2,2)\n",
    "sns.countplot(x = 'Diabetes', data = df, hue= 'No-show')\n",
    "plt.subplot(2,2,3)\n",
    "sns.countplot(x = 'Alcoholism', data = df, hue= 'No-show')\n",
    "plt.subplot(2,2,4)\n",
    "sns.countplot(x = 'Handcap', data = df, hue= 'No-show')\n",
    "plt.show()"
   ]
  },
  {
   "cell_type": "code",
   "execution_count": 38,
   "id": "89ddf66f",
   "metadata": {},
   "outputs": [
    {
     "data": {
      "image/png": "[encoded data removed]",
      "text/plain": [
       "<Figure size 1080x720 with 4 Axes>"
      ]
     },
     "metadata": {},
     "output_type": "display_data"
    }
   ],
   "source": [
    "# plotting deseases against no show with respect to age\n",
    "plt.figure(figsize=(15,10))\n",
    "plt.subplot(2,2,1)\n",
    "sns.barplot(x = 'Hipertension', y = 'Age', data = df, hue= 'No-show')\n",
    "plt.subplot(2,2,2)\n",
    "sns.barplot(x = 'Diabetes', y = 'Age', data = df, hue= 'No-show')\n",
    "plt.subplot(2,2,3)\n",
    "sns.barplot(x = 'Alcoholism', y = 'Age', data = df, hue= 'No-show')\n",
    "plt.subplot(2,2,4)\n",
    "sns.barplot(x = 'Handcap', y = 'Age', data = df, hue= 'No-show')\n",
    "plt.show()"
   ]
  },
  {
   "cell_type": "markdown",
   "id": "df433bed",
   "metadata": {},
   "source": [
    "from the previous set of plots, we can conclude that the vast majority of our dataset does not have chronic deseases, yet, they are existed in so many young people.\n",
    "having a chronic deseas may affect your showing up at a hospital's appointment."
   ]
  },
  {
   "cell_type": "code",
   "execution_count": 5,
   "id": "8a96d862",
   "metadata": {},
   "outputs": [
    {
     "data": {
      "text/plain": [
       "array([[<AxesSubplot:title={'center':'PatientId'}>,\n",
       "        <AxesSubplot:title={'center':'AppointmentID'}>,\n",
       "        <AxesSubplot:title={'center':'Age'}>],\n",
       "       [<AxesSubplot:title={'center':'Scholarship'}>,\n",
       "        <AxesSubplot:title={'center':'Hipertension'}>,\n",
       "        <AxesSubplot:title={'center':'Diabetes'}>],\n",
       "       [<AxesSubplot:title={'center':'Alcoholism'}>,\n",
       "        <AxesSubplot:title={'center':'Handcap'}>,\n",
       "        <AxesSubplot:title={'center':'SMS_received'}>]], dtype=object)"
      ]
     },
     "execution_count": 5,
     "metadata": {},
     "output_type": "execute_result"
    },
    {
     "data": {
      "image/png": "[encoded data removed]",
      "text/plain": [
       "<Figure size 720x576 with 9 Axes>"
      ]
     },
     "metadata": {
      "needs_background": "light"
     },
     "output_type": "display_data"
    }
   ],
   "source": [
    "#visualize histogrames of features\n",
    "df.hist(figsize=(10,8))"
   ]
  },
  {
   "cell_type": "markdown",
   "id": "6b4a2afc",
   "metadata": {},
   "source": [
    "# Conclusions\n",
    "Results:Our data suggest that\n",
    "1. There is not big difference between the distribution of Age between patients who showed up for the appointment      versus the patients that did not show up for the appointment.\n",
    "     \n",
    "2. There isahigher percentage of people that received an SMS and did not show up when compared to people who          received an SMS and did show up.\n",
    "     \n",
    "3. People that haveadisease are3%more likely to show up for the appointment than people who do not haveadisease.\n",
    "     \n",
    "4. Handicap patients specifically,however,are more likely to show up to the appointment compared to people who        are not Handicap.\n",
    "     \n",
    "5. Being enrolled in the Scholarship program does not seem to make people more likely to show up to the                appointment.\n",
    "     \n",
    "Limitations:There areacouple of limitations with our data:\n",
    "    \n",
    "1. Most of our variables are categorical,which does not allow forahigh level of statistical method that can be        used to provide correlations etc\n",
    "     \n",
    "2. The statistics used here are descriptive statistics,not inferential,meaning that we did not create any              hypotheses or controlled experiments orinferences with our data.\n",
    "     \n",
    "3. We do not havealot of details for certain factors to draw conclusions.For the SMS_ received example,the data    shows that no-showers aremore likely to receive an SMS.This may seem counter intuitive,but we do not have              information on the conditions of when the SMS is sent.\n",
    "     \n",
    "For example they may target No-showers with SMS,or they may send the SMS once the Patient has not checked in 30       minutes prior to theirappointment etc.\n",
    "\n",
    "4. Cannot show strong correlations between factors since most of our data is categorical."
   ]
  },
  {
   "cell_type": "code",
   "execution_count": null,
   "id": "6882890b",
   "metadata": {},
   "outputs": [],
   "source": []
  }
 ],
 "metadata": {
  "kernelspec": {
   "display_name": "Python 3 (ipykernel)",
   "language": "python",
   "name": "python3"
  },
  "language_info": {
   "codemirror_mode": {
    "name": "ipython",
    "version": 3
   },
   "file_extension": ".py",
   "mimetype": "text/x-python",
   "name": "python",
   "nbconvert_exporter": "python",
   "pygments_lexer": "ipython3",
   "version": "3.9.7"
  }
 },
 "nbformat": 4,
 "nbformat_minor": 5
}
